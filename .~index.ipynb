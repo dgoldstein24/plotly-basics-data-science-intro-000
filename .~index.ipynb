{
 "cells": [
  {
   "cell_type": "markdown",
   "metadata": {},
   "source": [
    "# Going deeper with Plotly"
   ]
  },
  {
   "cell_type": "markdown",
   "metadata": {},
   "source": [
    "### Learning Objectives"
   ]
  },
  {
   "cell_type": "markdown",
   "metadata": {},
   "source": [
    "* Understand the iplot method\n",
    "* Understand how to create different traces/plots like a scatter plot, or a line plot\n",
    "* Understand how to have a chart with multiple traces"
   ]
  },
  {
   "cell_type": "markdown",
   "metadata": {},
   "source": [
    "### Introduction"
   ]
  },
  {
   "cell_type": "markdown",
   "metadata": {},
   "source": [
    "As you've seen in recent lessons, data science leans on data visualizations to draw inferences about our data, and to make sense of the math we use in making sense of this data.  We saw how plotting data with a bar chart can be used to show the relationship between $x$ and $y$ variables.  \n",
    "\n",
    "In this lesson, we'll explore more of the functionality of the Plotly library.  As we do so, pay careful attention to the data type that our methods require: whether they are dictionaries or lists, or lists of dictionaries.  Ok, let's go!"
   ]
  },
  {
   "cell_type": "markdown",
   "metadata": {},
   "source": [
    "### Drawing a line"
   ]
  },
  {
   "cell_type": "markdown",
   "metadata": {},
   "source": [
    "As you know, to get started with Plotly, we first install the library on our computer.  Let's do so in Jupyter by executing the cell below."
   ]
  },
  {
   "cell_type": "code",
   "execution_count": 1,
   "metadata": {},
   "outputs": [
    {
     "name": "stdout",
     "output_type": "stream",
     "text": [
      "Requirement already satisfied: plotly in /opt/conda/lib/python3.6/site-packages (3.1.1)\n",
      "Requirement already satisfied: decorator>=4.0.6 in /opt/conda/lib/python3.6/site-packages (from plotly) (4.3.0)\n",
      "Requirement already satisfied: nbformat>=4.2 in /opt/conda/lib/python3.6/site-packages (from plotly) (4.4.0)\n",
      "Requirement already satisfied: pytz in /opt/conda/lib/python3.6/site-packages (from plotly) (2018.5)\n",
      "Requirement already satisfied: requests in /opt/conda/lib/python3.6/site-packages (from plotly) (2.18.4)\n",
      "Requirement already satisfied: retrying>=1.3.3 in /opt/conda/lib/python3.6/site-packages (from plotly) (1.3.3)\n",
      "Requirement already satisfied: six in /opt/conda/lib/python3.6/site-packages (from plotly) (1.11.0)\n",
      "Requirement already satisfied: ipython_genutils in /opt/conda/lib/python3.6/site-packages (from nbformat>=4.2->plotly) (0.2.0)\n",
      "Requirement already satisfied: traitlets>=4.1 in /opt/conda/lib/python3.6/site-packages (from nbformat>=4.2->plotly) (4.3.2)\n",
      "Requirement already satisfied: jsonschema!=2.5.0,>=2.4 in /opt/conda/lib/python3.6/site-packages (from nbformat>=4.2->plotly) (2.6.0)\n",
      "Requirement already satisfied: jupyter_core in /opt/conda/lib/python3.6/site-packages (from nbformat>=4.2->plotly) (4.4.0)\n",
      "Requirement already satisfied: chardet<3.1.0,>=3.0.2 in /opt/conda/lib/python3.6/site-packages (from requests->plotly) (3.0.4)\n",
      "Requirement already satisfied: idna<2.7,>=2.5 in /opt/conda/lib/python3.6/site-packages (from requests->plotly) (2.6)\n",
      "Requirement already satisfied: urllib3<1.23,>=1.21.1 in /opt/conda/lib/python3.6/site-packages (from requests->plotly) (1.22)\n",
      "Requirement already satisfied: certifi>=2017.4.17 in /opt/conda/lib/python3.6/site-packages (from requests->plotly) (2018.8.24)\n"
     ]
    }
   ],
   "source": [
    "!pip install plotly"
   ]
  },
  {
   "cell_type": "markdown",
   "metadata": {},
   "source": [
    "If plotly is already on your computer, pip will tell you that the requirement is already satisfied.  That's ok, we can happily proceed."
   ]
  },
  {
   "cell_type": "markdown",
   "metadata": {},
   "source": [
    "The next step is to import the plotly library. "
   ]
  },
  {
   "cell_type": "code",
   "execution_count": 2,
   "metadata": {},
   "outputs": [
    {
     "data": {
      "text/html": [
       "<script>requirejs.config({paths: { 'plotly': ['https://cdn.plot.ly/plotly-latest.min']},});if(!window.Plotly) {{require(['plotly'],function(plotly) {window.Plotly=plotly;});}}</script>"
      ],
      "text/vnd.plotly.v1+html": [
       "<script>requirejs.config({paths: { 'plotly': ['https://cdn.plot.ly/plotly-latest.min']},});if(!window.Plotly) {{require(['plotly'],function(plotly) {window.Plotly=plotly;});}}</script>"
      ]
     },
     "metadata": {},
     "output_type": "display_data"
    }
   ],
   "source": [
    "import plotly\n",
    "from plotly.offline import iplot, init_notebook_mode\n",
    "init_notebook_mode(connected=True)"
   ]
  },
  {
   "cell_type": "markdown",
   "metadata": {},
   "source": [
    "If we plot offline, we do not need to provide a login.  So we plot offline, while plotting our first plot with the below line."
   ]
  },
  {
   "cell_type": "code",
   "execution_count": 3,
   "metadata": {},
   "outputs": [
    {
     "data": {
      "application/vnd.plotly.v1+json": {
       "data": [
        {
         "type": "scatter",
         "uid": "4e369c42-c362-11e8-976e-0242ac110010"
        }
       ],
       "layout": {}
      },
      "text/html": [
       "<div id=\"0e2fa7ce-ef44-4063-a156-53eae6ef009b\" style=\"height: 525px; width: 100%;\" class=\"plotly-graph-div\"></div><script type=\"text/javascript\">require([\"plotly\"], function(Plotly) { window.PLOTLYENV=window.PLOTLYENV || {};window.PLOTLYENV.BASE_URL=\"https://plot.ly\";Plotly.newPlot(\"0e2fa7ce-ef44-4063-a156-53eae6ef009b\", [{\"type\": \"scatter\", \"uid\": \"4e644f16-c362-11e8-976e-0242ac110010\"}], {}, {\"showLink\": true, \"linkText\": \"Export to plot.ly\"})});</script>"
      ],
      "text/vnd.plotly.v1+html": [
       "<div id=\"0e2fa7ce-ef44-4063-a156-53eae6ef009b\" style=\"height: 525px; width: 100%;\" class=\"plotly-graph-div\"></div><script type=\"text/javascript\">require([\"plotly\"], function(Plotly) { window.PLOTLYENV=window.PLOTLYENV || {};window.PLOTLYENV.BASE_URL=\"https://plot.ly\";Plotly.newPlot(\"0e2fa7ce-ef44-4063-a156-53eae6ef009b\", [{\"type\": \"scatter\", \"uid\": \"4e644f16-c362-11e8-976e-0242ac110010\"}], {}, {\"showLink\": true, \"linkText\": \"Export to plot.ly\"})});</script>"
      ]
     },
     "metadata": {},
     "output_type": "display_data"
    }
   ],
   "source": [
    "plotly.offline.iplot([\n",
    "    {}\n",
    "])"
   ]
  },
  {
   "cell_type": "markdown",
   "metadata": {},
   "source": [
    "Let's take another look at that line of code.\n",
    "```python\n",
    "plotly.offline.iplot([\n",
    "    {}\n",
    "])\n",
    "```\n",
    "\n",
    "We reference the `plotly` library, which we imported above.  Then we pass a list containing a dictionary to the `iplot` method.  That dictionary can represent a scatter trace, a line trace, or other types of traces.  \n",
    "\n",
    "We pass the trace into a list because we can have more than one trace in the same graph - for example two bar traces displayed side by side or a scatter trace underneath a line trace.  "
   ]
  },
  {
   "cell_type": "markdown",
   "metadata": {},
   "source": [
    "Now let's discuss how a trace represents data.  In the `trace` in the code below, we plot four points.  Notice that we provide the $x$ and $y$ coordinates in two separate attributes of the dictionary.  Change around the data to get a feel for how it works."
   ]
  },
  {
   "cell_type": "code",
   "execution_count": 4,
   "metadata": {},
   "outputs": [
    {
     "data": {
      "application/vnd.plotly.v1+json": {
       "data": [
        {
         "type": "scatter",
         "uid": "50b8a640-c362-11e8-976e-0242ac110010",
         "x": [
          1,
          2,
          3,
          4
         ],
         "y": [
          1,
          2,
          3,
          4
         ]
        }
       ],
       "layout": {}
      },
      "text/html": [
       "<div id=\"919c3158-5cb9-4f72-a462-59c83eb9d28f\" style=\"height: 525px; width: 100%;\" class=\"plotly-graph-div\"></div><script type=\"text/javascript\">require([\"plotly\"], function(Plotly) { window.PLOTLYENV=window.PLOTLYENV || {};window.PLOTLYENV.BASE_URL=\"https://plot.ly\";Plotly.newPlot(\"919c3158-5cb9-4f72-a462-59c83eb9d28f\", [{\"x\": [1, 2, 3, 4], \"y\": [1, 2, 3, 4], \"type\": \"scatter\", \"uid\": \"50c2ba5e-c362-11e8-976e-0242ac110010\"}], {}, {\"showLink\": true, \"linkText\": \"Export to plot.ly\"})});</script>"
      ],
      "text/vnd.plotly.v1+html": [
       "<div id=\"919c3158-5cb9-4f72-a462-59c83eb9d28f\" style=\"height: 525px; width: 100%;\" class=\"plotly-graph-div\"></div><script type=\"text/javascript\">require([\"plotly\"], function(Plotly) { window.PLOTLYENV=window.PLOTLYENV || {};window.PLOTLYENV.BASE_URL=\"https://plot.ly\";Plotly.newPlot(\"919c3158-5cb9-4f72-a462-59c83eb9d28f\", [{\"x\": [1, 2, 3, 4], \"y\": [1, 2, 3, 4], \"type\": \"scatter\", \"uid\": \"50c2ba5e-c362-11e8-976e-0242ac110010\"}], {}, {\"showLink\": true, \"linkText\": \"Export to plot.ly\"})});</script>"
      ]
     },
     "metadata": {},
     "output_type": "display_data"
    }
   ],
   "source": [
    "trace = {'x': [1, 2, 3, 4], 'y': [1, 2, 3, 4]}\n",
    "\n",
    "plotly.offline.iplot([\n",
    "    trace\n",
    "])"
   ]
  },
  {
   "cell_type": "markdown",
   "metadata": {},
   "source": [
    "The plot above has one trace which is a line trace.  However, this type of trace is just the default.  Note, that we did not specify any particular type.\n",
    "\n",
    "```python\n",
    "trace = {'x': [1, 2, 3, 4], 'y': [1, 2, 3, 4]}\n",
    "```\n",
    "\n",
    "We can change it by changing the mode to `markers`.  While we are at it, let's also change the color of the markers.  "
   ]
  },
  {
   "cell_type": "code",
   "execution_count": 5,
   "metadata": {},
   "outputs": [
    {
     "data": {
      "application/vnd.plotly.v1+json": {
       "data": [
        {
         "marker": {
          "color": "rgba(255, 182, 193, .9)"
         },
         "mode": "markers",
         "type": "scatter",
         "uid": "51ea464a-c362-11e8-976e-0242ac110010",
         "x": [
          1,
          2,
          3,
          4
         ],
         "y": [
          1,
          2,
          3,
          4
         ]
        }
       ],
       "layout": {}
      },
      "text/html": [
       "<div id=\"d9b33974-a355-4baf-9160-8019521cdcd8\" style=\"height: 525px; width: 100%;\" class=\"plotly-graph-div\"></div><script type=\"text/javascript\">require([\"plotly\"], function(Plotly) { window.PLOTLYENV=window.PLOTLYENV || {};window.PLOTLYENV.BASE_URL=\"https://plot.ly\";Plotly.newPlot(\"d9b33974-a355-4baf-9160-8019521cdcd8\", [{\"marker\": {\"color\": \"rgba(255, 182, 193, .9)\"}, \"mode\": \"markers\", \"x\": [1, 2, 3, 4], \"y\": [1, 2, 3, 4], \"type\": \"scatter\", \"uid\": \"51ee2e7c-c362-11e8-976e-0242ac110010\"}], {}, {\"showLink\": true, \"linkText\": \"Export to plot.ly\"})});</script>"
      ],
      "text/vnd.plotly.v1+html": [
       "<div id=\"d9b33974-a355-4baf-9160-8019521cdcd8\" style=\"height: 525px; width: 100%;\" class=\"plotly-graph-div\"></div><script type=\"text/javascript\">require([\"plotly\"], function(Plotly) { window.PLOTLYENV=window.PLOTLYENV || {};window.PLOTLYENV.BASE_URL=\"https://plot.ly\";Plotly.newPlot(\"d9b33974-a355-4baf-9160-8019521cdcd8\", [{\"marker\": {\"color\": \"rgba(255, 182, 193, .9)\"}, \"mode\": \"markers\", \"x\": [1, 2, 3, 4], \"y\": [1, 2, 3, 4], \"type\": \"scatter\", \"uid\": \"51ee2e7c-c362-11e8-976e-0242ac110010\"}], {}, {\"showLink\": true, \"linkText\": \"Export to plot.ly\"})});</script>"
      ]
     },
     "metadata": {},
     "output_type": "display_data"
    }
   ],
   "source": [
    "trace = {'x': [1, 2, 3, 4], 'y': [1, 2, 3, 4], 'mode': 'markers', 'marker': {'color': 'rgba(255, 182, 193, .9)'}}\n",
    "\n",
    "plotly.offline.iplot([\n",
    "    trace\n",
    "])"
   ]
  },
  {
   "cell_type": "markdown",
   "metadata": {},
   "source": [
    "Cool!  So we changed the code to markers and changed the colors of those markers by setting the rgb (red, green, blue) value.\n",
    "\n",
    "```python\n",
    "trace = {'x': [1, 2, 3, 4], 'y': [1, 2, 3, 4], 'mode': 'markers', 'marker': {'color': 'rgba(255, 182, 193, .9)'}}\n",
    "```"
   ]
  },
  {
   "cell_type": "markdown",
   "metadata": {},
   "source": [
    "Now let's add more than one trace to a given graph.  We'll keep the first trace largely the same by using the same data, and color of markers.  We'll name our trace 'Some dots'  by adding the name attribute and set it equal to the corresponding string."
   ]
  },
  {
   "cell_type": "code",
   "execution_count": 6,
   "metadata": {},
   "outputs": [],
   "source": [
    "trace0 = {'x': [1, 2, 3, 4], 'y': [1, 2, 3, 4], \n",
    "          'mode': 'markers', 'marker': {'color': 'rgba(255, 182, 193, .9)'}, \n",
    "          'name': 'Some dots'}"
   ]
  },
  {
   "cell_type": "markdown",
   "metadata": {},
   "source": [
    "In the second trace, we have some new data, and set the color as blue.  Because we did not specify a mode, it defaults to connecting the points as a line.  And we name our trace as \"Our nice line\".   "
   ]
  },
  {
   "cell_type": "code",
   "execution_count": 7,
   "metadata": {},
   "outputs": [],
   "source": [
    "trace1 = {'x': [1.5, 2.5, 3.5, 4.5], 'y': [3, 5, 7, 9], \n",
    "          'marker': {'color': 'blue'},\n",
    "          'name': 'Our nice line'}"
   ]
  },
  {
   "cell_type": "markdown",
   "metadata": {},
   "source": [
    "Finally, we create a plot of the two traces.  "
   ]
  },
  {
   "cell_type": "code",
   "execution_count": 8,
   "metadata": {},
   "outputs": [
    {
     "data": {
      "application/vnd.plotly.v1+json": {
       "data": [
        {
         "marker": {
          "color": "rgba(255, 182, 193, .9)"
         },
         "mode": "markers",
         "name": "Some dots",
         "type": "scatter",
         "uid": "53bb7bf6-c362-11e8-976e-0242ac110010",
         "x": [
          1,
          2,
          3,
          4
         ],
         "y": [
          1,
          2,
          3,
          4
         ]
        },
        {
         "marker": {
          "color": "blue"
         },
         "name": "Our nice line",
         "type": "scatter",
         "uid": "53bb7fb6-c362-11e8-976e-0242ac110010",
         "x": [
          1.5,
          2.5,
          3.5,
          4.5
         ],
         "y": [
          3,
          5,
          7,
          9
         ]
        }
       ],
       "layout": {}
      },
      "text/html": [
       "<div id=\"7c879ec1-86fd-4f69-a726-81440d12912d\" style=\"height: 525px; width: 100%;\" class=\"plotly-graph-div\"></div><script type=\"text/javascript\">require([\"plotly\"], function(Plotly) { window.PLOTLYENV=window.PLOTLYENV || {};window.PLOTLYENV.BASE_URL=\"https://plot.ly\";Plotly.newPlot(\"7c879ec1-86fd-4f69-a726-81440d12912d\", [{\"marker\": {\"color\": \"rgba(255, 182, 193, .9)\"}, \"mode\": \"markers\", \"name\": \"Some dots\", \"x\": [1, 2, 3, 4], \"y\": [1, 2, 3, 4], \"type\": \"scatter\", \"uid\": \"53c3c5c2-c362-11e8-976e-0242ac110010\"}, {\"marker\": {\"color\": \"blue\"}, \"name\": \"Our nice line\", \"x\": [1.5, 2.5, 3.5, 4.5], \"y\": [3, 5, 7, 9], \"type\": \"scatter\", \"uid\": \"53c3c946-c362-11e8-976e-0242ac110010\"}], {}, {\"showLink\": true, \"linkText\": \"Export to plot.ly\"})});</script>"
      ],
      "text/vnd.plotly.v1+html": [
       "<div id=\"7c879ec1-86fd-4f69-a726-81440d12912d\" style=\"height: 525px; width: 100%;\" class=\"plotly-graph-div\"></div><script type=\"text/javascript\">require([\"plotly\"], function(Plotly) { window.PLOTLYENV=window.PLOTLYENV || {};window.PLOTLYENV.BASE_URL=\"https://plot.ly\";Plotly.newPlot(\"7c879ec1-86fd-4f69-a726-81440d12912d\", [{\"marker\": {\"color\": \"rgba(255, 182, 193, .9)\"}, \"mode\": \"markers\", \"name\": \"Some dots\", \"x\": [1, 2, 3, 4], \"y\": [1, 2, 3, 4], \"type\": \"scatter\", \"uid\": \"53c3c5c2-c362-11e8-976e-0242ac110010\"}, {\"marker\": {\"color\": \"blue\"}, \"name\": \"Our nice line\", \"x\": [1.5, 2.5, 3.5, 4.5], \"y\": [3, 5, 7, 9], \"type\": \"scatter\", \"uid\": \"53c3c946-c362-11e8-976e-0242ac110010\"}], {}, {\"showLink\": true, \"linkText\": \"Export to plot.ly\"})});</script>"
      ]
     },
     "metadata": {},
     "output_type": "display_data"
    }
   ],
   "source": [
    "plotly.offline.iplot([\n",
    "    trace0, trace1\n",
    "])"
   ]
  },
  {
   "cell_type": "markdown",
   "metadata": {},
   "source": [
    "### Working with types"
   ]
  },
  {
   "cell_type": "markdown",
   "metadata": {},
   "source": [
    "So far, we have only worked with either scatter charts or line charts.  The two charts are really quite similar -- connecting lines versus no connecting lines  -- and plotly treats them as such.  However, there are other ways of viewing the world beyond dots and lines.  Now let's see how.\n",
    "\n",
    "For example, we can make a bar chart, simply by specifying the in our dictionary that the `type` is `bar` for a `bar` trace."
   ]
  },
  {
   "cell_type": "code",
   "execution_count": 9,
   "metadata": {},
   "outputs": [
    {
     "data": {
      "application/vnd.plotly.v1+json": {
       "data": [
        {
         "marker": {
          "color": "blue"
         },
         "name": "Our nice bar trace",
         "type": "bar",
         "uid": "594b9f06-c362-11e8-976e-0242ac110010",
         "x": [
          "bobby",
          "susan",
          "eli",
          "malcolm"
         ],
         "y": [
          3,
          5,
          7,
          9
         ]
        }
       ],
       "layout": {}
      },
      "text/html": [
       "<div id=\"c97a2972-808b-493d-902a-e06df72d81a5\" style=\"height: 525px; width: 100%;\" class=\"plotly-graph-div\"></div><script type=\"text/javascript\">require([\"plotly\"], function(Plotly) { window.PLOTLYENV=window.PLOTLYENV || {};window.PLOTLYENV.BASE_URL=\"https://plot.ly\";Plotly.newPlot(\"c97a2972-808b-493d-902a-e06df72d81a5\", [{\"marker\": {\"color\": \"blue\"}, \"name\": \"Our nice bar trace\", \"x\": [\"bobby\", \"susan\", \"eli\", \"malcolm\"], \"y\": [3, 5, 7, 9], \"type\": \"bar\", \"uid\": \"594f859e-c362-11e8-976e-0242ac110010\"}], {}, {\"showLink\": true, \"linkText\": \"Export to plot.ly\"})});</script>"
      ],
      "text/vnd.plotly.v1+html": [
       "<div id=\"c97a2972-808b-493d-902a-e06df72d81a5\" style=\"height: 525px; width: 100%;\" class=\"plotly-graph-div\"></div><script type=\"text/javascript\">require([\"plotly\"], function(Plotly) { window.PLOTLYENV=window.PLOTLYENV || {};window.PLOTLYENV.BASE_URL=\"https://plot.ly\";Plotly.newPlot(\"c97a2972-808b-493d-902a-e06df72d81a5\", [{\"marker\": {\"color\": \"blue\"}, \"name\": \"Our nice bar trace\", \"x\": [\"bobby\", \"susan\", \"eli\", \"malcolm\"], \"y\": [3, 5, 7, 9], \"type\": \"bar\", \"uid\": \"594f859e-c362-11e8-976e-0242ac110010\"}], {}, {\"showLink\": true, \"linkText\": \"Export to plot.ly\"})});</script>"
      ]
     },
     "metadata": {},
     "output_type": "display_data"
    }
   ],
   "source": [
    "bar_trace = {'type': 'bar', 'x': ['bobby', 'susan', 'eli', 'malcolm'], 'y': [3, 5, 7, 9], 'marker': {'color': 'blue'}, 'name': 'Our nice bar trace'}\n",
    "\n",
    "plotly.offline.iplot([\n",
    "    bar_trace\n",
    "])"
   ]
  },
  {
   "cell_type": "markdown",
   "metadata": {},
   "source": [
    "Another way to create a bar chart is to use the constructor provided by plotly.  It's not too tricky to do so.  First, we import our `graph_objs` library from Plotly.  And then we call the bar chart constructor. "
   ]
  },
  {
   "cell_type": "code",
   "execution_count": 10,
   "metadata": {},
   "outputs": [
    {
     "data": {
      "text/plain": [
       "Bar({\n",
       "    'x': ['bobby', 'susan', 'eli', 'malcolm'], 'y': [3, 5, 7, 9]\n",
       "})"
      ]
     },
     "execution_count": 10,
     "metadata": {},
     "output_type": "execute_result"
    }
   ],
   "source": [
    "from plotly import graph_objs \n",
    "\n",
    "bar_trace_via_constructor = graph_objs.Bar(\n",
    "            x=['bobby', 'susan', 'eli', 'malcolm'],\n",
    "            y=[3, 5, 7, 9]\n",
    "    )\n",
    "\n",
    "bar_trace_via_constructor"
   ]
  },
  {
   "cell_type": "markdown",
   "metadata": {},
   "source": [
    "We refer to the function `graph_objs.Bar` as a constructor because it literally constructs python dictionaries with a key of `type` that equals `bar`.  Then, we can pass this dictionary to our `iplot` method to display our bar chart."
   ]
  },
  {
   "cell_type": "code",
   "execution_count": 11,
   "metadata": {},
   "outputs": [
    {
     "data": {
      "application/vnd.plotly.v1+json": {
       "data": [
        {
         "type": "bar",
         "uid": "59d4c40c-c362-11e8-976e-0242ac110010",
         "x": [
          "bobby",
          "susan",
          "eli",
          "malcolm"
         ],
         "y": [
          3,
          5,
          7,
          9
         ]
        }
       ],
       "layout": {}
      },
      "text/html": [
       "<div id=\"22a2b3a2-43fc-42db-8929-658948f75c95\" style=\"height: 525px; width: 100%;\" class=\"plotly-graph-div\"></div><script type=\"text/javascript\">require([\"plotly\"], function(Plotly) { window.PLOTLYENV=window.PLOTLYENV || {};window.PLOTLYENV.BASE_URL=\"https://plot.ly\";Plotly.newPlot(\"22a2b3a2-43fc-42db-8929-658948f75c95\", [{\"x\": [\"bobby\", \"susan\", \"eli\", \"malcolm\"], \"y\": [3, 5, 7, 9], \"type\": \"bar\", \"uid\": \"59d8856a-c362-11e8-976e-0242ac110010\"}], {}, {\"showLink\": true, \"linkText\": \"Export to plot.ly\"})});</script>"
      ],
      "text/vnd.plotly.v1+html": [
       "<div id=\"22a2b3a2-43fc-42db-8929-658948f75c95\" style=\"height: 525px; width: 100%;\" class=\"plotly-graph-div\"></div><script type=\"text/javascript\">require([\"plotly\"], function(Plotly) { window.PLOTLYENV=window.PLOTLYENV || {};window.PLOTLYENV.BASE_URL=\"https://plot.ly\";Plotly.newPlot(\"22a2b3a2-43fc-42db-8929-658948f75c95\", [{\"x\": [\"bobby\", \"susan\", \"eli\", \"malcolm\"], \"y\": [3, 5, 7, 9], \"type\": \"bar\", \"uid\": \"59d8856a-c362-11e8-976e-0242ac110010\"}], {}, {\"showLink\": true, \"linkText\": \"Export to plot.ly\"})});</script>"
      ]
     },
     "metadata": {},
     "output_type": "display_data"
    }
   ],
   "source": [
    "bar_trace_via_constructor = graph_objs.Bar(\n",
    "            x=['bobby', 'susan', 'eli', 'malcolm'],\n",
    "            y=[3, 5, 7, 9]\n",
    "    )\n",
    "\n",
    "\n",
    "plotly.offline.iplot([\n",
    "    bar_trace_via_constructor\n",
    "])"
   ]
  },
  {
   "cell_type": "markdown",
   "metadata": {},
   "source": [
    "Now let's look at some constructors for make other traces.  "
   ]
  },
  {
   "cell_type": "code",
   "execution_count": 12,
   "metadata": {},
   "outputs": [
    {
     "data": {
      "text/plain": [
       "Scatter()"
      ]
     },
     "execution_count": 12,
     "metadata": {},
     "output_type": "execute_result"
    }
   ],
   "source": [
    "graph_objs.Scatter()"
   ]
  },
  {
   "cell_type": "code",
   "execution_count": 13,
   "metadata": {},
   "outputs": [
    {
     "data": {
      "text/plain": [
       "Pie()"
      ]
     },
     "execution_count": 13,
     "metadata": {},
     "output_type": "execute_result"
    }
   ],
   "source": [
    "graph_objs.Pie()"
   ]
  },
  {
   "cell_type": "markdown",
   "metadata": {},
   "source": [
    "And of course, we can always use the dictionary constructor to create our dictionaries."
   ]
  },
  {
   "cell_type": "code",
   "execution_count": 14,
   "metadata": {},
   "outputs": [
    {
     "data": {
      "application/vnd.plotly.v1+json": {
       "data": [
        {
         "labels": [
          "chocolate",
          "vanilla",
          "strawberry"
         ],
         "type": "pie",
         "uid": "5b1a909e-c362-11e8-976e-0242ac110010",
         "values": [
          10,
          5,
          15
         ]
        }
       ],
       "layout": {}
      },
      "text/html": [
       "<div id=\"772d8579-75c2-43f9-a227-43be4c625768\" style=\"height: 525px; width: 100%;\" class=\"plotly-graph-div\"></div><script type=\"text/javascript\">require([\"plotly\"], function(Plotly) { window.PLOTLYENV=window.PLOTLYENV || {};window.PLOTLYENV.BASE_URL=\"https://plot.ly\";Plotly.newPlot(\"772d8579-75c2-43f9-a227-43be4c625768\", [{\"labels\": [\"chocolate\", \"vanilla\", \"strawberry\"], \"values\": [10, 5, 15], \"type\": \"pie\", \"uid\": \"5b1e16ce-c362-11e8-976e-0242ac110010\"}], {}, {\"showLink\": true, \"linkText\": \"Export to plot.ly\"})});</script>"
      ],
      "text/vnd.plotly.v1+html": [
       "<div id=\"772d8579-75c2-43f9-a227-43be4c625768\" style=\"height: 525px; width: 100%;\" class=\"plotly-graph-div\"></div><script type=\"text/javascript\">require([\"plotly\"], function(Plotly) { window.PLOTLYENV=window.PLOTLYENV || {};window.PLOTLYENV.BASE_URL=\"https://plot.ly\";Plotly.newPlot(\"772d8579-75c2-43f9-a227-43be4c625768\", [{\"labels\": [\"chocolate\", \"vanilla\", \"strawberry\"], \"values\": [10, 5, 15], \"type\": \"pie\", \"uid\": \"5b1e16ce-c362-11e8-976e-0242ac110010\"}], {}, {\"showLink\": true, \"linkText\": \"Export to plot.ly\"})});</script>"
      ]
     },
     "metadata": {},
     "output_type": "display_data"
    }
   ],
   "source": [
    "pie_trace = dict(type=\"pie\", labels=[\"chocolate\", \"vanilla\", \"strawberry\"], values=[10, 5, 15])\n",
    "\n",
    "plotly.offline.iplot([\n",
    "    pie_trace\n",
    "])"
   ]
  },
  {
   "cell_type": "markdown",
   "metadata": {},
   "source": [
    "### Modifying a Chart Layout"
   ]
  },
  {
   "cell_type": "markdown",
   "metadata": {},
   "source": [
    "So far we have seen how to specify attributes of traces or charts, which display our data.  Now let's see how to modify the overall layout in our chart.\n",
    "\n",
    "Note that the format of our traces will not change."
   ]
  },
  {
   "cell_type": "code",
   "execution_count": null,
   "metadata": {},
   "outputs": [],
   "source": [
    "trace_of_data = {'x': [1.5, 2.5, 3.5, 4.5], 'y': [3, 5, 7, 9], \n",
    "                 'marker': {'color': 'blue'},\n",
    "                 'name': 'Our nice line'}"
   ]
  },
  {
   "cell_type": "markdown",
   "metadata": {},
   "source": [
    "However, instead of passing to our `iplot` function a list of traces, we pass our `iplot` function a dictionary with a `data` key, which has a value of a list of traces.  The `layout` key points to a dictionary representing our layout."
   ]
  },
  {
   "cell_type": "code",
   "execution_count": null,
   "metadata": {},
   "outputs": [],
   "source": [
    "layout = {'title': 'Scatter Plot'}\n",
    "trace_of_data = {'x': [1.5, 2.5, 3.5, 4.5], 'y': [3, 5, 7, 9], 'marker': {'color': 'blue'}, 'name': 'Our nice line'}\n",
    "\n",
    "figure = {'data': [trace_of_data], 'layout': layout}\n",
    "\n",
    "plotly.offline.iplot(figure)"
   ]
  },
  {
   "cell_type": "markdown",
   "metadata": {},
   "source": [
    "So above we used the `layout` to name our plot's title.  Now that we have used `layout` to specify our chart's title, let's also use it to specify the range of our x axis and y axis.  Previously, we were allowing Plotly to automatically set the range.  We can also adjust the range to meet our specifications."
   ]
  },
  {
   "cell_type": "code",
   "execution_count": null,
   "metadata": {},
   "outputs": [],
   "source": [
    "layout = {'title': 'Scatter Plot', 'xaxis': {'range': [1, 10]}, 'yaxis': {'range': [1, 10]}}\n",
    "trace_of_data = {'x': [1.5, 2.5, 3.5, 4.5], 'y': [3, 5, 7, 9], 'marker': {'color': 'blue'}, 'name': 'Our nice line'}\n",
    "\n",
    "figure = {'data': [trace_of_data], 'layout': layout}\n",
    "\n",
    "plotly.offline.iplot(figure)"
   ]
  },
  {
   "cell_type": "markdown",
   "metadata": {},
   "source": [
    "We can see how adjusting the range changes our perspective of the plotted x and y values."
   ]
  },
  {
   "cell_type": "markdown",
   "metadata": {},
   "source": [
    "### Summary"
   ]
  },
  {
   "cell_type": "markdown",
   "metadata": {},
   "source": [
    "In this section we explored more of Plotly's library to create different data visualizations.  We created different traces to represent our data, with each trace represented as a dictionary passed to our `iplot` method.  We saw how to display multiple traces in a chart by wrapping the traces in a list.  We learned how to use constructors like `graph_objs.Bar` to create a chart. The constructor creates a dictionary that we can pass to our `iplot` method.  Finally, we moved onto modifying the layout of our charts with another python dictionary."
   ]
  }
 ],
 "metadata": {
  "kernelspec": {
   "display_name": "Python 3",
   "language": "python",
   "name": "python3"
  },
  "language_info": {
   "codemirror_mode": {
    "name": "ipython",
    "version": 3
   },
   "file_extension": ".py",
   "mimetype": "text/x-python",
   "name": "python",
   "nbconvert_exporter": "python",
   "pygments_lexer": "ipython3",
   "version": "3.6.4"
  }
 },
 "nbformat": 4,
 "nbformat_minor": 2
}
